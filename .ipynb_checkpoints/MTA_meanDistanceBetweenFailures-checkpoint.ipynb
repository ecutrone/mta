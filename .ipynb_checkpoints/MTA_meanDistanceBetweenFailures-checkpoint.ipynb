{
 "cells": [
  {
   "cell_type": "code",
   "execution_count": 90,
   "metadata": {
    "collapsed": false
   },
   "outputs": [
    {
     "name": "stdout",
     "output_type": "stream",
     "text": [
      "    indicator_seq  parent_seq  agency_name  \\\n",
      "50          67816           0  NYC Transit   \n",
      "51          67816           0  NYC Transit   \n",
      "52          67816           0  NYC Transit   \n",
      "53          67816           0  NYC Transit   \n",
      "54          67816           0  NYC Transit   \n",
      "55          67816           0  NYC Transit   \n",
      "56          67816           0  NYC Transit   \n",
      "57          67816           0  NYC Transit   \n",
      "58          67816           0  NYC Transit   \n",
      "59          67816           0  NYC Transit   \n",
      "60          67816           0  NYC Transit   \n",
      "61          67816           0  NYC Transit   \n",
      "62          67816           0  NYC Transit   \n",
      "63          67816           0  NYC Transit   \n",
      "64          67816           0  NYC Transit   \n",
      "65          67816           0  NYC Transit   \n",
      "66          67816           0  NYC Transit   \n",
      "67          67816           0  NYC Transit   \n",
      "68          67816           0  NYC Transit   \n",
      "71          67816           0  NYC Transit   \n",
      "72          67816           0  NYC Transit   \n",
      "73          67816           0  NYC Transit   \n",
      "74          67816           0  NYC Transit   \n",
      "75          67816           0  NYC Transit   \n",
      "76          67816           0  NYC Transit   \n",
      "77          67816           0  NYC Transit   \n",
      "78          67816           0  NYC Transit   \n",
      "79          67816           0  NYC Transit   \n",
      "80          67816           0  NYC Transit   \n",
      "81          67816           0  NYC Transit   \n",
      "82          67816           0  NYC Transit   \n",
      "83          67816           0  NYC Transit   \n",
      "84          67816           0  NYC Transit   \n",
      "85          67816           0  NYC Transit   \n",
      "86          67816           0  NYC Transit   \n",
      "87          67816           0  NYC Transit   \n",
      "88          67816           0  NYC Transit   \n",
      "89          67816           0  NYC Transit   \n",
      "90          67816           0  NYC Transit   \n",
      "91          67816           0  NYC Transit   \n",
      "92          67816           0  NYC Transit   \n",
      "93          67816           0  NYC Transit   \n",
      "94          67816           0  NYC Transit   \n",
      "22          67816           0  NYC Transit   \n",
      "95          67816           0  NYC Transit   \n",
      "96          67816           0  NYC Transit   \n",
      "97          67816           0  NYC Transit   \n",
      "98          67816           0  NYC Transit   \n",
      "\n",
      "                              indicator_name  \\\n",
      "50  Mean Distance Between Failures - Subways   \n",
      "51  Mean Distance Between Failures - Subways   \n",
      "52  Mean Distance Between Failures - Subways   \n",
      "53  Mean Distance Between Failures - Subways   \n",
      "54  Mean Distance Between Failures - Subways   \n",
      "55  Mean Distance Between Failures - Subways   \n",
      "56  Mean Distance Between Failures - Subways   \n",
      "57  Mean Distance Between Failures - Subways   \n",
      "58  Mean Distance Between Failures - Subways   \n",
      "59  Mean Distance Between Failures - Subways   \n",
      "60  Mean Distance Between Failures - Subways   \n",
      "61  Mean Distance Between Failures - Subways   \n",
      "62  Mean Distance Between Failures - Subways   \n",
      "63  Mean Distance Between Failures - Subways   \n",
      "64  Mean Distance Between Failures - Subways   \n",
      "65  Mean Distance Between Failures - Subways   \n",
      "66  Mean Distance Between Failures - Subways   \n",
      "67  Mean Distance Between Failures - Subways   \n",
      "68  Mean Distance Between Failures - Subways   \n",
      "71  Mean Distance Between Failures - Subways   \n",
      "72  Mean Distance Between Failures - Subways   \n",
      "73  Mean Distance Between Failures - Subways   \n",
      "74  Mean Distance Between Failures - Subways   \n",
      "75  Mean Distance Between Failures - Subways   \n",
      "76  Mean Distance Between Failures - Subways   \n",
      "77  Mean Distance Between Failures - Subways   \n",
      "78  Mean Distance Between Failures - Subways   \n",
      "79  Mean Distance Between Failures - Subways   \n",
      "80  Mean Distance Between Failures - Subways   \n",
      "81  Mean Distance Between Failures - Subways   \n",
      "82  Mean Distance Between Failures - Subways   \n",
      "83  Mean Distance Between Failures - Subways   \n",
      "84  Mean Distance Between Failures - Subways   \n",
      "85  Mean Distance Between Failures - Subways   \n",
      "86  Mean Distance Between Failures - Subways   \n",
      "87  Mean Distance Between Failures - Subways   \n",
      "88  Mean Distance Between Failures - Subways   \n",
      "89  Mean Distance Between Failures - Subways   \n",
      "90  Mean Distance Between Failures - Subways   \n",
      "91  Mean Distance Between Failures - Subways   \n",
      "92  Mean Distance Between Failures - Subways   \n",
      "93  Mean Distance Between Failures - Subways   \n",
      "94  Mean Distance Between Failures - Subways   \n",
      "22  Mean Distance Between Failures - Subways   \n",
      "95  Mean Distance Between Failures - Subways   \n",
      "96  Mean Distance Between Failures - Subways   \n",
      "97  Mean Distance Between Failures - Subways   \n",
      "98  Mean Distance Between Failures - Subways   \n",
      "\n",
      "                                          description  period_year  \\\n",
      "50  Average number of miles a subway car travels i...         2008   \n",
      "51  Average number of miles a subway car travels i...         2008   \n",
      "52  Average number of miles a subway car travels i...         2008   \n",
      "53  Average number of miles a subway car travels i...         2008   \n",
      "54  Average number of miles a subway car travels i...         2008   \n",
      "55  Average number of miles a subway car travels i...         2008   \n",
      "56  Average number of miles a subway car travels i...         2008   \n",
      "57  Average number of miles a subway car travels i...         2008   \n",
      "58  Average number of miles a subway car travels i...         2008   \n",
      "59  Average number of miles a subway car travels i...         2008   \n",
      "60  Average number of miles a subway car travels i...         2008   \n",
      "61  Average number of miles a subway car travels i...         2008   \n",
      "62  Average number of miles a subway car travels i...         2009   \n",
      "63  Average number of miles a subway car travels i...         2009   \n",
      "64  Average number of miles a subway car travels i...         2009   \n",
      "65  Average number of miles a subway car travels i...         2009   \n",
      "66  Average number of miles a subway car travels i...         2009   \n",
      "67  Average number of miles a subway car travels i...         2009   \n",
      "68  Average number of miles a subway car travels i...         2009   \n",
      "71  Average number of miles a subway car travels i...         2009   \n",
      "72  Average number of miles a subway car travels i...         2009   \n",
      "73  Average number of miles a subway car travels i...         2009   \n",
      "74  Average number of miles a subway car travels i...         2009   \n",
      "75  Average number of miles a subway car travels i...         2009   \n",
      "76  Average number of miles a subway car travels i...         2010   \n",
      "77  Average number of miles a subway car travels i...         2010   \n",
      "78  Average number of miles a subway car travels i...         2010   \n",
      "79  Average number of miles a subway car travels i...         2010   \n",
      "80  Average number of miles a subway car travels i...         2010   \n",
      "81  Average number of miles a subway car travels i...         2010   \n",
      "82  Average number of miles a subway car travels i...         2010   \n",
      "83  Average number of miles a subway car travels i...         2010   \n",
      "84  Average number of miles a subway car travels i...         2010   \n",
      "85  Average number of miles a subway car travels i...         2010   \n",
      "86  Average number of miles a subway car travels i...         2010   \n",
      "87  Average number of miles a subway car travels i...         2010   \n",
      "88  Average number of miles a subway car travels i...         2011   \n",
      "89  Average number of miles a subway car travels i...         2011   \n",
      "90  Average number of miles a subway car travels i...         2011   \n",
      "91  Average number of miles a subway car travels i...         2011   \n",
      "92  Average number of miles a subway car travels i...         2011   \n",
      "93  Average number of miles a subway car travels i...         2011   \n",
      "94  Average number of miles a subway car travels i...         2011   \n",
      "22  Average number of miles a subway car travels i...         2011   \n",
      "95  Average number of miles a subway car travels i...         2011   \n",
      "96  Average number of miles a subway car travels i...         2011   \n",
      "97  Average number of miles a subway car travels i...         2011   \n",
      "98  Average number of miles a subway car travels i...         2011   \n",
      "\n",
      "    period_month            category frequency desired_change indicator_unit  \\\n",
      "50             1  Service Indicators         M              U              -   \n",
      "51             2  Service Indicators         M              U              -   \n",
      "52             3  Service Indicators         M              U              -   \n",
      "53             4  Service Indicators         M              U              -   \n",
      "54             5  Service Indicators         M              U              -   \n",
      "55             6  Service Indicators         M              U              -   \n",
      "56             7  Service Indicators         M              U              -   \n",
      "57             8  Service Indicators         M              U              -   \n",
      "58             9  Service Indicators         M              U              -   \n",
      "59            10  Service Indicators         M              U              -   \n",
      "60            11  Service Indicators         M              U              -   \n",
      "61            12  Service Indicators         M              U              -   \n",
      "62             1  Service Indicators         M              U              -   \n",
      "63             2  Service Indicators         M              U              -   \n",
      "64             3  Service Indicators         M              U              -   \n",
      "65             4  Service Indicators         M              U              -   \n",
      "66             5  Service Indicators         M              U              -   \n",
      "67             6  Service Indicators         M              U              -   \n",
      "68             7  Service Indicators         M              U              -   \n",
      "71             8  Service Indicators         M              U              -   \n",
      "72             9  Service Indicators         M              U              -   \n",
      "73            10  Service Indicators         M              U              -   \n",
      "74            11  Service Indicators         M              U              -   \n",
      "75            12  Service Indicators         M              U              -   \n",
      "76             1  Service Indicators         M              U              -   \n",
      "77             2  Service Indicators         M              U              -   \n",
      "78             3  Service Indicators         M              U              -   \n",
      "79             4  Service Indicators         M              U              -   \n",
      "80             5  Service Indicators         M              U              -   \n",
      "81             6  Service Indicators         M              U              -   \n",
      "82             7  Service Indicators         M              U              -   \n",
      "83             8  Service Indicators         M              U              -   \n",
      "84             9  Service Indicators         M              U              -   \n",
      "85            10  Service Indicators         M              U              -   \n",
      "86            11  Service Indicators         M              U              -   \n",
      "87            12  Service Indicators         M              U              -   \n",
      "88             1  Service Indicators         M              U              -   \n",
      "89             2  Service Indicators         M              U              -   \n",
      "90             3  Service Indicators         M              U              -   \n",
      "91             4  Service Indicators         M              U              -   \n",
      "92             5  Service Indicators         M              U              -   \n",
      "93             6  Service Indicators         M              U              -   \n",
      "94             7  Service Indicators         M              U              -   \n",
      "22             8  Service Indicators         M              U              -   \n",
      "95             9  Service Indicators         M              U              -   \n",
      "96            10  Service Indicators         M              U              -   \n",
      "97            11  Service Indicators         M              U              -   \n",
      "98            12  Service Indicators         M              U              -   \n",
      "\n",
      "    decimal_places  ytd_target  ytd_actual  monthly_target  monthly_actual  \n",
      "50               0      148244      148244          155000          148420  \n",
      "51               0      148476      148476          155000          140993  \n",
      "52               0      146941      146941          155000          144737  \n",
      "53               0      146277      146253          155000          157804  \n",
      "54               0      144999      142961          155000          133825  \n",
      "55               0      144987      141011          155000          133694  \n",
      "56               0      146516      139628          155000          124910  \n",
      "57               0      149567      138836          155000          117993  \n",
      "58               0      150155      136946          155000          127214  \n",
      "59               0      152392      137332          155000          138127  \n",
      "60               0      152365      136064          155000          140283  \n",
      "61               0      155000      134795          155000          121264  \n",
      "62               0      145000      133546          145000          132340  \n",
      "63               0      145000      133325          145000          138178  \n",
      "64               0      145000      133711          145000          150126  \n",
      "65               0      145000      133021          145000          147167  \n",
      "66               0      145000      136152          145000          185485  \n",
      "67               0      145000      138972          145000          175641  \n",
      "68               0      145000      139897          145000          134384  \n",
      "71               0      145000      139889          145000          118186  \n",
      "72               0      145000      142538          145000          159851  \n",
      "73               0      145000      145170          145000          173800  \n",
      "74               0      145000      148417          145000          189553  \n",
      "75               0      145000      153201          145000          171752  \n",
      "76               0      155000      157233          155000          179692  \n",
      "77               0      155000      160839          155000          186298  \n",
      "78               0      155000      165396          155000          213410  \n",
      "79               0      155000      170182          155000          210439  \n",
      "80               0      155000      170314          155000          187140  \n",
      "81               0      155000      166263          155000          159454  \n",
      "82               0      155000      165355          155000          126376  \n",
      "83               0      155000      169680          155000          146705  \n",
      "84               0      155000      168832          155000          148004  \n",
      "85               0      155000      169438          155000          176252  \n",
      "86               0      155000      170695          155000          208109  \n",
      "87               0      155000      170217          155000          165152  \n",
      "88               0      168000      158000          168000          193371  \n",
      "89               0      168000      171746          168000          188717  \n",
      "90               0      168000      170410          168000          192527  \n",
      "91               0      168000      171553          168000          219564  \n",
      "92               0      168000      174330          168000          236322  \n",
      "93               0      168000           0          168000               0  \n",
      "94               0      168000           0          168000               0  \n",
      "22               0      168000           0          168000               0  \n",
      "95               0      168000           0          168000               0  \n",
      "96               0      168000           0          168000               0  \n",
      "97               0      168000           0          168000               0  \n",
      "98               0      168000           0          168000               0  \n"
     ]
    }
   ],
   "source": [
    "import csv\n",
    "import string\n",
    "import numpy as np\n",
    "import pandas as pd\n",
    "import matplotlib.pyplot as plt\n",
    "import sklearn as sk\n",
    "from sklearn.linear_model import LinearRegression\n",
    "\n",
    "#questions--\n",
    "#did service actually get worse over time? \n",
    "#something about the goals--do they just lower the bar in response to decreased quality?\n",
    "#are certain times of year worse by certain measures/for certain reasons?\n",
    "#practice plotting?\n",
    "\n",
    "all_the_data=pd.read_csv('mtadata.csv')\n",
    "all_the_data.axes\n",
    "#select indicator_name Mean distance between failures\n",
    "#print np.where(all_the_data.loc[:,'indicator_seq']==67816)\n",
    "inds=np.where(all_the_data.loc[:,'indicator_seq']==67816)\n",
    "#print np.squeeze(inds)\n",
    "inds=np.squeeze(inds)\n",
    "mean_distance=all_the_data.iloc[inds,:]\n",
    "mean_distance=mean_distance.sort_values(['period_year', 'period_month'])\n",
    "#print mean_distance\n",
    "#figure out how to combine year and month cols into one date col; then pivot table accordingly (pd)\n",
    "#or just sort by year then month"
   ]
  },
  {
   "cell_type": "markdown",
   "metadata": {
    "collapsed": true
   },
   "source": []
  },
  {
   "cell_type": "code",
   "execution_count": 91,
   "metadata": {
    "collapsed": false
   },
   "outputs": [
    {
     "data": {
      "text/plain": [
       "LinearRegression(copy_X=True, fit_intercept=True, n_jobs=1, normalize=False)"
      ]
     },
     "execution_count": 91,
     "metadata": {},
     "output_type": "execute_result"
    }
   ],
   "source": [
    "nMonths=mean_distance.shape[0]\n",
    "#time=np.empty([nMonths,1])\n",
    "time=range(0,nMonths)\n",
    "time=np.matrix(time).T\n",
    "#normally should check that no data is missing here but this list is short enough i can tell there's none\n",
    "Y=mean_distance.loc[:,'monthly_actual']\n",
    "regr=sk.linear_model.LinearRegression()\n",
    "regr.fit(time, Y)"
   ]
  },
  {
   "cell_type": "code",
   "execution_count": 92,
   "metadata": {
    "collapsed": false
   },
   "outputs": [
    {
     "name": "stdout",
     "output_type": "stream",
     "text": [
      "('Coefficients: \\n', array([-1418.67569475]))\n",
      "Mean squared error: 3676222157.85\n",
      "Variance score: 0.10\n"
     ]
    }
   ],
   "source": [
    "Y_pred = regr.predict(time)\n",
    "\n",
    "# The coefficients\n",
    "print('Coefficients: \\n', regr.coef_)\n",
    "# The mean squared error\n",
    "print(\"Mean squared error: %.2f\"\n",
    "      % sk.metrics.mean_squared_error(Y, Y_pred))\n",
    "# Explained variance score: 1 is perfect prediction\n",
    "print('Variance score: %.2f' % sk.metrics.r2_score(Y, Y_pred))\n",
    "\n",
    "# Plot outputs\n",
    "plt.scatter(time, Y,  color='black')\n",
    "plt.plot(time, Y_pred, color='blue', linewidth=3)\n",
    "\n",
    "plt.xticks(())\n",
    "plt.yticks(())\n",
    "\n",
    "plt.show()"
   ]
  },
  {
   "cell_type": "code",
   "execution_count": 93,
   "metadata": {
    "collapsed": false
   },
   "outputs": [],
   "source": [
    "#see if time of year matters\n",
    "#need to mean-normalize and stuff\n",
    "# ALSO--regress out the yearly pattern and see if then it gets worse over time!\n",
    "\n",
    "\n",
    "time2=time[0:12]\n",
    "Y2=np.reshape(Y,[4,12])\n",
    "Y2means=np.mean(Y2, axis=0)\n",
    "Y2bars=np.std(Y2, axis=0)\n",
    "Y2means=np.squeeze(np.array(Y2means))\n",
    "Y2bars=np.squeeze(np.array(Y2bars))\n",
    "#print np.array(Y2means).shape\n",
    "#print np.array(Y2bars).shape\n",
    "time2=np.squeeze(np.array(time2))\n",
    "#print time2.shape\n",
    "#print Y2means.shape\n",
    "plt.errorbar(time2, Y2means, yerr=Y2bars, color='black')\n",
    "plt.show()\n",
    "\n",
    "#there's a pattern based on time of year--\n",
    "#(NOTE: do more stats later to actually evaluate that statement...)\n",
    "#regress out the yearly pattern\n",
    "#(in other words, add this as a factor in the analysis and see how much variance is explained by this pattern vs by general increase over time)\n",
    "\n"
   ]
  },
  {
   "cell_type": "code",
   "execution_count": 103,
   "metadata": {
    "collapsed": false
   },
   "outputs": [
    {
     "name": "stdout",
     "output_type": "stream",
     "text": [
      "(48, 2)\n",
      "(48,)\n",
      "(48, 2)\n"
     ]
    }
   ],
   "source": [
    "seasonalVar=np.squeeze(np.tile(Y2means, [1, 4]));\n",
    "X=np.ndarray([48, 2]) #should eventually edit so all the dims are not hard-coded...\n",
    "#print X.shape\n",
    "#print seasonalVar.shape\n",
    "X[:,0]=seasonalVar\n",
    "X[:,1]=np.squeeze(time)\n",
    "#print X.shape"
   ]
  },
  {
   "cell_type": "code",
   "execution_count": 104,
   "metadata": {
    "collapsed": false
   },
   "outputs": [
    {
     "data": {
      "text/plain": [
       "LinearRegression(copy_X=True, fit_intercept=True, n_jobs=1, normalize=False)"
      ]
     },
     "execution_count": 104,
     "metadata": {},
     "output_type": "execute_result"
    }
   ],
   "source": [
    "regr2=sk.linear_model.LinearRegression()\n",
    "regr2.fit(X, Y)"
   ]
  },
  {
   "cell_type": "code",
   "execution_count": 107,
   "metadata": {
    "collapsed": false
   },
   "outputs": [
    {
     "name": "stdout",
     "output_type": "stream",
     "text": [
      "('Coefficients: \\n', array([  9.23863248e-01,  -1.05016192e+03]))\n",
      "Mean squared error: 2801054092.20\n",
      "Variance score: 0.31\n"
     ]
    }
   ],
   "source": [
    "Y_pred = regr2.predict(X)\n",
    "\n",
    "# The coefficients\n",
    "print('Coefficients: \\n', regr2.coef_)\n",
    "# The mean squared error\n",
    "print(\"Mean squared error: %.2f\"\n",
    "      % sk.metrics.mean_squared_error(Y, Y_pred))\n",
    "# Explained variance score: 1 is perfect prediction\n",
    "print('Variance score: %.2f' % sk.metrics.r2_score(Y, Y_pred))\n",
    "\n",
    "# Plot outputs\n",
    "plt.scatter(time, Y,  color='black')\n",
    "plt.plot(time, Y_pred, color='blue', linewidth=3)\n",
    "\n",
    "plt.xticks(())\n",
    "plt.yticks(())\n",
    "\n",
    "plt.show()"
   ]
  },
  {
   "cell_type": "code",
   "execution_count": 108,
   "metadata": {
    "collapsed": true
   },
   "outputs": [],
   "source": [
    "# this model does a little better! \n",
    "# although clearly is missing something (the variation across months increases from year to year, it looks like?)\n",
    "# there are more rigorous ways to regularize this model--more ways to pull out the most representative yearly cycle, \n",
    "# more ways to account for that, evaluate the predictions, etc\n",
    "# so i will explore those in a future update.\n",
    "\n",
    "#(also, there are many other metrics of MTA bad-ness)"
   ]
  },
  {
   "cell_type": "code",
   "execution_count": null,
   "metadata": {
    "collapsed": true
   },
   "outputs": [],
   "source": []
  }
 ],
 "metadata": {
  "kernelspec": {
   "display_name": "Python 2",
   "language": "python",
   "name": "python2"
  },
  "language_info": {
   "codemirror_mode": {
    "name": "ipython",
    "version": 2
   },
   "file_extension": ".py",
   "mimetype": "text/x-python",
   "name": "python",
   "nbconvert_exporter": "python",
   "pygments_lexer": "ipython2",
   "version": "2.7.10"
  }
 },
 "nbformat": 4,
 "nbformat_minor": 0
}
